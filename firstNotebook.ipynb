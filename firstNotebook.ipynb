{
 "cells": [
  {
   "cell_type": "markdown",
   "id": "e828a073-0e32-49db-acb1-12e2fee05473",
   "metadata": {},
   "source": [
    "## Analisis de audio en Python\n",
    "\n",
    "\n",
    "## 1. Cargar audio estereo y trabajar con el\n",
    "\n",
    "Cargaremos un audio estereo descargado del campues para primeramente mostrar sus caracteristicas principales solicitadas en el PDF y luego lo reproducideremos\n",
    "\n",
    "### 1.1. Cargar el audio estereo y mostrar sus caracteristicas\n"
   ]
  },
  {
   "cell_type": "code",
   "execution_count": null,
   "id": "10edb8f4-60df-41b5-a9ad-a087e9c60c4d",
   "metadata": {},
   "outputs": [],
   "source": [
    "#Importamos las librerias necesarias\n",
    "import librosa  \n",
    "import os  \n",
    "import sys\n",
    "\n",
    "# Cargar el archivo de audio en estéreo\n",
    "audio_path = \"interstellar.mp3\"\n",
    "audio_stereo, sr = librosa.load(audio_path, sr=None, mono=False)\n",
    "\n",
    "# Mostrar características básicas\n",
    "print(\"Frecuencia de muestreo:\", sr)  # Muestras por segundo\n",
    "print(\"Forma del array de audio:\", audio_stereo.shape)  # Mostraea (canales, muestras) si el audio que pasamos es estereo\n",
    "\n",
    "# Calcular tamaño del archivo\n",
    "file_size = os.path.getsize(audio_path) / (1024 * 1024)  # Convertir bytes a MB\n",
    "print(\"Tamaño del archivo: {:.2f} MB\".format(file_size))"
   ]
  },
  {
   "cell_type": "markdown",
   "id": "d99a26ca-7387-417c-b0d5-634b8ac02ed7",
   "metadata": {},
   "source": [
    "### 1.2. Reproducir audio estereo"
   ]
  },
  {
   "cell_type": "code",
   "execution_count": null,
   "id": "4bc9eeb8-da00-4593-8da9-c21f3a9ebfc3",
   "metadata": {},
   "outputs": [],
   "source": [
    "from IPython.display import Audio\n",
    "\n",
    "# Reproducimos nuestro audio:\n",
    "Audio(audio_path)\n",
    "\n",
    "\n"
   ]
  },
  {
   "cell_type": "markdown",
   "id": "2cbe3af4-aecf-48c2-9367-48aaec3d4836",
   "metadata": {},
   "source": [
    "## 2. Convertimos audio estereo a mono y trabajamos con el\n",
    "\n",
    "Comvertiremos el audio estereo a mono y también mostraremos sus caracteristicas y lo reproduciremos como antes hemos hecho con el audio estereo\n",
    "\n",
    "### 2.1. Convertimos audio estereo a mono y mostramos caracteristicas"
   ]
  },
  {
   "cell_type": "code",
   "execution_count": null,
   "id": "c710cbd8-03a5-42b6-94f8-1cbd45b31b7e",
   "metadata": {},
   "outputs": [],
   "source": [
    "\n",
    "# Convertir a mono \n",
    "audio_mono = librosa.to_mono(audio_stereo)\n",
    "\n",
    "# Mostrar características\n",
    "print(\"Frecuencia de muestreo:\", sr)\n",
    "print(\"Forma del array mono:\", audio_mono.shape)\n",
    "\n",
    "# Tamaño estimado del archivo\n",
    "size_mono = sys.getsizeof(audio_mono) / (1024 * 1024)\n",
    "print(\"Tamaño en memoria aproximado: {:.2f} MB\".format(size_mono))\n"
   ]
  },
  {
   "cell_type": "markdown",
   "id": "7234c39c-3c09-4e35-90b8-9e028db37beb",
   "metadata": {},
   "source": [
    "### 2.2. Reproducimos el audio"
   ]
  },
  {
   "cell_type": "code",
   "execution_count": null,
   "id": "e18c95be-eca9-4bad-9b64-cad8299ff6e7",
   "metadata": {},
   "outputs": [],
   "source": [
    "import soundfile as sf\n",
    "import sys\n",
    "import numpy as np\n",
    "\n",
    "max_val = np.abs(audio_mono).max() # Calculamos el valor absoluto maximo para prevenir errores al guardar el archivo por si algun valor se sale de rango\n",
    "if max_val > 1.0:\n",
    "    audio_mono = audio_mono / max_val # Si hay valores fuera de rango dividimos todos los valores por el maximo\n",
    "audio_mono = audio_mono.astype(np.float32) # Convertimos a float32, formato adecuado para archivo .wav\n",
    "\n",
    "# Guardar como archivo .wav\n",
    "sf.write(\"interstellar.wav\", audio_mono, sr)\n",
    "\n",
    "# Reproducir con widget\n",
    "Audio(\"interstellar.wav\")\n"
   ]
  },
  {
   "cell_type": "markdown",
   "id": "bfc6f48f-40f8-4e3a-979d-0524b6d9bb24",
   "metadata": {},
   "source": [
    "## 3. Mostramos grafica de audios"
   ]
  },
  {
   "cell_type": "code",
   "execution_count": null,
   "id": "05433395-25ee-4bb8-853f-0f0c8d5ee6ab",
   "metadata": {},
   "outputs": [],
   "source": [
    "%matplotlib inline"
   ]
  },
  {
   "cell_type": "markdown",
   "id": "3c00ada3-8130-4518-9b3f-46619f6af87a",
   "metadata": {},
   "source": [
    "### 3.1. Mostramos grafica audio mono"
   ]
  },
  {
   "cell_type": "code",
   "execution_count": null,
   "id": "b118c494-9ff9-4dac-94d5-5d915a652474",
   "metadata": {},
   "outputs": [],
   "source": [
    "import matplotlib.pyplot as plt\n",
    "\n",
    "muestras = sr * 5 # Calculamos cuantas muestras hay en 5 s\n",
    "tiempo_mono = np.linspace(0, 5, muestras) #alineamos el eje x con el numero de muestras que vamos a graficas\n",
    "\n",
    "plt.figure(figsize=(12, 4)) #Creamos una figura con dimensiones en pulgadas\n",
    "plt.plot(tiempo_mono, audio_mono[:muestras], color='blue') #Dibujamos la forma de onda del audio mono\n",
    "plt.title(\"Audio MONO - primeros 5 segundos\")\n",
    "plt.xlabel(\"Tiempo (s)\")\n",
    "plt.ylabel(\"Amplitud\")\n",
    "plt.grid(True) # Aniadimos una rejilla para facilirar la lectura de la grafica\n",
    "plt.tight_layout() # Ajustamos bien los margenes\n",
    "plt.show()\n",
    "\n",
    "\n"
   ]
  },
  {
   "cell_type": "markdown",
   "id": "6d9acc36-2259-4cd2-8470-0c9a44cf4e97",
   "metadata": {},
   "source": [
    "### 3.2. Mostramos grafica audio estereo"
   ]
  },
  {
   "cell_type": "code",
   "execution_count": null,
   "id": "b8061494-2f62-46ce-bf9a-81c31f464828",
   "metadata": {},
   "outputs": [],
   "source": [
    "tiempo_stereo = np.linspace(0, 5, muestras)\n",
    "\n",
    "plt.figure(figsize=(12, 5))\n",
    "plt.plot(tiempo_stereo, audio_stereo[0][:muestras], label=\"Canal izquierdo\", alpha=0.7) #Dibujamos la forma de onda del canal izquierdo\n",
    "plt.plot(tiempo_stereo, audio_stereo[1][:muestras], label=\"Canal derecho\", alpha=0.7) # Dibujamos la forma de onda del canal derecho\n",
    "plt.title(\"Audio ESTÉREO - primeros 5 segundos\")\n",
    "plt.xlabel(\"Tiempo (s)\")\n",
    "plt.ylabel(\"Amplitud\")\n",
    "plt.legend()\n",
    "plt.grid(True)\n",
    "plt.tight_layout()\n",
    "plt.show()"
   ]
  },
  {
   "cell_type": "markdown",
   "id": "66f6661d-ab12-4904-ac15-a39ff056a973",
   "metadata": {},
   "source": [
    "## 4. Diferencia entre audio estereo y mono"
   ]
  },
  {
   "cell_type": "markdown",
   "id": "1090a093-0a4f-4cb6-8fbe-00481ed06002",
   "metadata": {},
   "source": [
    "La principal diferencia entre estos dos tipos de audio podemos observarlo principalmente en la grafica, como vemos en el audio mono solo tenemos un unico canal de sonido es decir el sonido se esucha por igual por ambos altavoces, mientras que ene le audio estereo tenemos dos canales, el canal izquierdo, y el canal derecho, uno para el oido izquierdo y otro para el oido derecho."
   ]
  },
  {
   "cell_type": "markdown",
   "id": "da771bc8-855b-4c98-843b-fd980742af9e",
   "metadata": {},
   "source": [
    "## 5. Conceptos del audio digital\n",
    "\n",
    "### 5.1. Frecuencia de muestreo\n",
    "La frecuencia de muestro es la cantidad de muestras que toman por segundo para poder convertir las señales analógicas en señales digitales. Suele medirse en hercios(Hz).\n",
    "\n",
    "### 5.2. Aliasing\n",
    "Es un efecto no deseado que ocurre cuando la frecuencia de muestreo es demasiado baja, es decir, son indistinguibles al ser muestreadas digitalmente y por tanto no representa bien la señal original. Esto puede provocar confusión o distorsión en el sonido.\n",
    "\n",
    "### 5.3. Profundidad de bits\n",
    "La profundidad de bits es la cantidad de bits en una muestra, representando la amplitud de una onda. Cuantas más profundidad de bits, mayor número de divisiones verticales en los que se puede tomar la muestra.\n",
    "\n",
    "### 5.4. Ancho de banda\n",
    "El ancho de banda es la cantidad máxima de datos que se pueden transmitir a través de una conexión a Internet en un determinado tiempo. Se suele representar como el número de bits que se pueden transmitir en un segundo.\n",
    "\n",
    "### 5.5. Tasa de bits\n",
    "Podemos definir tasa de bits como el número de bits de datos que se envían cada segundo a través de un sistema de transmision digital o entre dos dispositivos digitales."
   ]
  },
  {
   "cell_type": "markdown",
   "id": "d56858a6-7582-445e-b415-e1328cd6dc47",
   "metadata": {},
   "source": [
    "## 6. Aplicar la transformada rapida de Fourier (FFT)"
   ]
  },
  {
   "cell_type": "code",
   "execution_count": null,
   "id": "04dd4bf5-6924-4219-bebb-df2bf1d9e9ef",
   "metadata": {},
   "outputs": [],
   "source": [
    "# Usamos 30 segundos del audio para crear la grafica\n",
    "muestras = sr * 30 # Calculamos cuantas muestras hay en esos segundos\n",
    "audio_fragmento = audio_mono[:muestras]\n",
    "\n",
    "# Aplicamos la FFT \n",
    "fft = np.fft.fft(audio_fragmento)\n",
    "magnitudes = np.abs(fft)  # Solo nos interesa la magnitud\n",
    "\n",
    "# Creamos el eje de frecuencias correspondiente\n",
    "frecuencias = np.fft.fftfreq(len(magnitudes), d=1/sr)\n",
    "\n",
    "# Nos quedamos solo con la mitad positiva (la otra es simétrica)\n",
    "half = len(magnitudes) // 2\n",
    "frecuencias = frecuencias[:half]\n",
    "magnitudes = magnitudes[:half]\n",
    "\n",
    "# Graficamos\n",
    "plt.figure(figsize=(12, 4))\n",
    "plt.plot(frecuencias, magnitudes, color='purple')\n",
    "plt.title(\"Dominio de la frecuencia (FFT del audio mono)\")\n",
    "plt.xlabel(\"Frecuencia (Hz)\")\n",
    "plt.ylabel(\"Magnitud\")\n",
    "plt.grid(True)\n",
    "plt.tight_layout()\n",
    "plt.show()\n"
   ]
  },
  {
   "cell_type": "markdown",
   "id": "94a2ee3f-f3f9-44a3-9195-55cadd0bdfbc",
   "metadata": {},
   "source": [
    "## 7. Calculo energia de espectograma y frecuencia de corte con epsilon"
   ]
  },
  {
   "cell_type": "code",
   "execution_count": null,
   "id": "504f30f4-a02e-45f9-a4bc-c3473f61661d",
   "metadata": {},
   "outputs": [],
   "source": [
    "audio_fragmento = audio_mono[:sr * 30]  # 30 segundos\n",
    "\n",
    "# Calculamos el espectrograma que mostrara las frecuencias y como cambian en el tiempo\n",
    "S = np.abs(librosa.stft(audio_fragmento)) ** 2  # potencia espectral\n",
    "\n",
    "# Calculamos la energia media\n",
    "espectro_promedio = np.mean(S, axis=1)\n",
    "\n",
    "# Calculamos la energía total\n",
    "energia_total = np.sum(espectro_promedio)\n",
    "\n",
    "# Orden acumulado de energía\n",
    "energia_acumulada = np.cumsum(espectro_promedio)\n",
    "proporcion_acumulada = energia_acumulada / energia_total\n",
    "\n",
    "# Elegimos un epsilon, en este caso el 95% de la energia\n",
    "epsilon = 0.95\n",
    "\n",
    "# Encontramos la frecuencia de corte\n",
    "indice_corte = np.argmax(proporcion_acumulada >= epsilon)\n",
    "frecuencia_corte = librosa.fft_frequencies(sr=sr)[indice_corte]\n",
    "\n",
    "print(f\"Frecuencia de corte para ε = {epsilon}: {frecuencia_corte:.2f} Hz\")\n",
    "\n",
    "#Mostramos grafica\n",
    "frecuencias = librosa.fft_frequencies(sr=sr)\n",
    "\n",
    "plt.figure(figsize=(12, 4))\n",
    "plt.plot(frecuencias, espectro_promedio)\n",
    "plt.axvline(frecuencia_corte, color='red', linestyle='--', label=f'ε = {epsilon} → {frecuencia_corte:.1f} Hz')\n",
    "plt.title(\"Espectro promedio y frecuencia de corte\")\n",
    "plt.xlabel(\"Frecuencia (Hz)\")\n",
    "plt.ylabel(\"Energía\")\n",
    "plt.grid(True)\n",
    "plt.legend()\n",
    "plt.tight_layout()\n",
    "plt.show()"
   ]
  },
  {
   "cell_type": "markdown",
   "id": "778d3f5f-151f-4a9c-8f94-b6cab5b26767",
   "metadata": {},
   "source": [
    "## 8. Aplicamos 'downsampling'"
   ]
  },
  {
   "cell_type": "code",
   "execution_count": null,
   "id": "eb65770f-e4bc-4cb1-b73c-1482a420cbea",
   "metadata": {},
   "outputs": [],
   "source": [
    "# Calculamos la nueva frecuencia de muestreo\n",
    "nuevo_sr = int(2 * frecuencia_corte)\n",
    "\n",
    "# Aplicamos downsampling\n",
    "audio_downsampled = librosa.resample(audio_mono, orig_sr=sr, target_sr=nuevo_sr)\n",
    "\n",
    "# Guardamos el audio comprimido\n",
    "sf.write(\"audio_downsampled.wav\", audio_downsampled, nuevo_sr)\n",
    "\n",
    "# Mostramos los nuevos datos\n",
    "print(f\"Nueva frecuencia de muestreo: {nuevo_sr} Hz\")\n",
    "print(f\"Número de muestras original: {len(audio_mono)}\")\n",
    "print(f\"Número de muestras tras downsampling: {len(audio_downsampled)}\")\n"
   ]
  },
  {
   "cell_type": "markdown",
   "id": "ef0e85cf-ff97-4cfc-a09e-2f549597b95b",
   "metadata": {},
   "source": [
    "## 9. Espectogramas de archivo original y comprimido"
   ]
  },
  {
   "cell_type": "code",
   "execution_count": null,
   "id": "b669f266-a71d-4505-975d-fd8b69277ca6",
   "metadata": {},
   "outputs": [],
   "source": [
    "\n",
    "\n",
    "duracion = 30  # duracion del audio\n",
    "\n",
    "# Recortamos ambos audios para el mismo tiempo\n",
    "audio_original = audio_mono[:sr * duracion]\n",
    "audio_comprimido = audio_downsampled[:nuevo_sr * duracion]\n",
    "\n",
    "# Crear espectrogramas\n",
    "S_orig = librosa.amplitude_to_db(np.abs(librosa.stft(audio_original)), ref=np.max)\n",
    "S_comp = librosa.amplitude_to_db(np.abs(librosa.stft(audio_comprimido)), ref=np.max)\n",
    "\n",
    "# Mostrar espectrogramas\n",
    "plt.figure(figsize=(14, 6))\n",
    "\n",
    "# Espectrograma original\n",
    "plt.subplot(1, 2, 1)\n",
    "librosa.display.specshow(S_orig, sr=sr, x_axis='time', y_axis='hz')\n",
    "plt.title(\"Espectrograma - Audio original\")\n",
    "plt.colorbar(format=\"%+2.f dB\")\n",
    "\n",
    "# Espectrograma comprimido\n",
    "plt.subplot(1, 2, 2)\n",
    "librosa.display.specshow(S_comp, sr=nuevo_sr, x_axis='time', y_axis='hz')\n",
    "plt.title(\"Espectrograma - Audio comprimido\")\n",
    "plt.colorbar(format=\"%+2.f dB\")\n",
    "\n",
    "plt.tight_layout()\n",
    "plt.show()\n"
   ]
  },
  {
   "cell_type": "markdown",
   "id": "565bba3e-958f-46fe-9ebd-5b081819ea37",
   "metadata": {},
   "source": [
    "## 9. Tamanio de ambos archivos"
   ]
  },
  {
   "cell_type": "code",
   "execution_count": null,
   "id": "f81b6374-3c9c-4c04-8781-1af2d1f5d234",
   "metadata": {},
   "outputs": [],
   "source": [
    "sf.write(\"audio_original.wav\", audio_mono, sr) # Alamcenamos el audio originar en un archivo\n",
    "\n",
    "# Almacenamos los nombres de los archivos en variables\n",
    "archivo_original = \"audio_original.wav\"\n",
    "archivo_comprimido = \"audio_downsampled.wav\"\n",
    "\n",
    "# Calculamos los tamanios en MB de cada archivo\n",
    "tamano_original = os.path.getsize(archivo_original) / (1024 * 1024)\n",
    "tamano_comprimido = os.path.getsize(archivo_comprimido) / (1024 * 1024)\n",
    "\n",
    "print(f\"Tamaño del archivo original: {tamano_original:.2f} MB\")\n",
    "print(f\"Tamaño del archivo comprimido: {tamano_comprimido:.2f} MB\")\n"
   ]
  },
  {
   "cell_type": "markdown",
   "id": "2f413b81-d7f4-45d6-b9d4-a5c5f46bc386",
   "metadata": {},
   "source": [
    "## 10. Widgets de audios"
   ]
  },
  {
   "cell_type": "markdown",
   "id": "5cd55b61-2691-47a6-99e3-5da105ad00a2",
   "metadata": {},
   "source": [
    "### 10.1. Widget audio original"
   ]
  },
  {
   "cell_type": "code",
   "execution_count": null,
   "id": "974290f8-8bfe-44f2-89b1-4a357ed8216a",
   "metadata": {},
   "outputs": [],
   "source": [
    "Audio(archivo_original)\n"
   ]
  },
  {
   "cell_type": "markdown",
   "id": "4e33cf07-741f-4073-b316-ccea0d34bda9",
   "metadata": {},
   "source": [
    "### 10.1. Widget audio comprimido"
   ]
  },
  {
   "cell_type": "code",
   "execution_count": null,
   "id": "8983fdc3-4c78-4f5d-b61c-c289f9c1734d",
   "metadata": {},
   "outputs": [],
   "source": [
    "Audio(archivo_comprimido)\n"
   ]
  }
 ],
 "metadata": {
  "kernelspec": {
   "display_name": "Python (audio_env)",
   "language": "python",
   "name": "audio_env"
  },
  "language_info": {
   "codemirror_mode": {
    "name": "ipython",
    "version": 3
   },
   "file_extension": ".py",
   "mimetype": "text/x-python",
   "name": "python",
   "nbconvert_exporter": "python",
   "pygments_lexer": "ipython3",
   "version": "3.10.16"
  }
 },
 "nbformat": 4,
 "nbformat_minor": 5
}
