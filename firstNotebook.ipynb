{
 "cells": [
  {
   "cell_type": "markdown",
   "id": "e828a073-0e32-49db-acb1-12e2fee05473",
   "metadata": {},
   "source": [
    "## Analisis de audio en Python\n",
    "\n",
    "\n",
    "## 1. Cargar audio estereo y trabajar con el\n",
    "\n",
    "Cargaremos un audio estereo descargado del campues para primeramente mostrar sus caracteristicas principales solicitadas en el PDF y luego lo reproducideremos\n",
    "\n",
    "### 1.1. Cargar el audio estereo y mostrar sus caracteristicas\n"
   ]
  },
  {
   "cell_type": "code",
   "execution_count": null,
   "id": "10edb8f4-60df-41b5-a9ad-a087e9c60c4d",
   "metadata": {},
   "outputs": [],
   "source": [
    "#Importamos las librerias necesarias\n",
    "import librosa  \n",
    "import os  \n",
    "import sys\n",
    "\n",
    "# Cargar el archivo de audio en estéreo\n",
    "audio_path = \"interstellar.mp3\"\n",
    "audio_stereo, sr = librosa.load(audio_path, sr=None, mono=False)\n",
    "\n",
    "# Mostrar características básicas\n",
    "print(\"Frecuencia de muestreo:\", sr)  # Muestras por segundo\n",
    "print(\"Forma del array de audio:\", audio_stereo.shape)  # Mostraea (canales, muestras) si el audio que pasamos es estereo\n",
    "\n",
    "# Calcular tamaño del archivo\n",
    "file_size = os.path.getsize(audio_path) / (1024 * 1024)  # Convertir bytes a MB\n",
    "print(\"Tamaño del archivo: {:.2f} MB\".format(file_size))"
   ]
  },
  {
   "cell_type": "markdown",
   "id": "d99a26ca-7387-417c-b0d5-634b8ac02ed7",
   "metadata": {},
   "source": [
    "### 1.2. Reproducir audio estereo"
   ]
  },
  {
   "cell_type": "code",
   "execution_count": null,
   "id": "4bc9eeb8-da00-4593-8da9-c21f3a9ebfc3",
   "metadata": {},
   "outputs": [],
   "source": [
    "from IPython.display import Audio\n",
    "\n",
    "# Reproducimos nuestro audio:\n",
    "Audio(audio_path)\n",
    "\n",
    "\n"
   ]
  },
  {
   "cell_type": "markdown",
   "id": "2cbe3af4-aecf-48c2-9367-48aaec3d4836",
   "metadata": {},
   "source": [
    "## 2. Convertimos audio estereo a mono y trabajamos con el\n",
    "\n",
    "Comvertiremos el audio estereo a mono y también mostraremos sus caracteristicas y lo reproduciremos como antes hemos hecho con el audio estereo\n",
    "\n",
    "### 2.1. Convertimos audio estereo a mono y mostramos caracteristicas"
   ]
  },
  {
   "cell_type": "code",
   "execution_count": null,
   "id": "c710cbd8-03a5-42b6-94f8-1cbd45b31b7e",
   "metadata": {},
   "outputs": [],
   "source": [
    "\n",
    "# Convertir a mono \n",
    "audio_mono = librosa.to_mono(audio_stereo)\n",
    "\n",
    "# Mostrar características\n",
    "print(\"Frecuencia de muestreo:\", sr)\n",
    "print(\"Forma del array mono:\", audio_mono.shape)\n",
    "\n",
    "# Tamaño estimado del archivo\n",
    "size_mono = sys.getsizeof(audio_mono) / (1024 * 1024)\n",
    "print(\"Tamaño en memoria aproximado: {:.2f} MB\".format(size_mono))\n"
   ]
  },
  {
   "cell_type": "markdown",
   "id": "7234c39c-3c09-4e35-90b8-9e028db37beb",
   "metadata": {},
   "source": [
    "### 2.2. Reproducimos el audio"
   ]
  },
  {
   "cell_type": "code",
   "execution_count": null,
   "id": "e18c95be-eca9-4bad-9b64-cad8299ff6e7",
   "metadata": {},
   "outputs": [],
   "source": [
    "import soundfile as sf\n",
    "import sys\n",
    "import numpy as np\n",
    "\n",
    "max_val = np.abs(audio_mono).max() # Calculamos el valor absoluto maximo para prevenir errores al guardar el archivo por si algun valor se sale de rango\n",
    "if max_val > 1.0:\n",
    "    audio_mono = audio_mono / max_val # Si hay valores fuera de rango dividimos todos los valores por el maximo\n",
    "audio_mono = audio_mono.astype(np.float32) # Convertimos a float32, formato adecuado para archivo .wav\n",
    "\n",
    "# Guardar como archivo .wav\n",
    "sf.write(\"interstellar.wav\", audio_mono, sr)\n",
    "\n",
    "# Reproducir con widget\n",
    "Audio(\"interstellar.wav\")\n"
   ]
  },
  {
   "cell_type": "markdown",
   "id": "bfc6f48f-40f8-4e3a-979d-0524b6d9bb24",
   "metadata": {},
   "source": [
    "## 3. Mostramos grafica de audios"
   ]
  },
  {
   "cell_type": "code",
   "execution_count": null,
   "id": "05433395-25ee-4bb8-853f-0f0c8d5ee6ab",
   "metadata": {},
   "outputs": [],
   "source": [
    "%matplotlib inline"
   ]
  },
  {
   "cell_type": "markdown",
   "id": "3c00ada3-8130-4518-9b3f-46619f6af87a",
   "metadata": {},
   "source": [
    "### 3.1. Mostramos grafica audio mono"
   ]
  },
  {
   "cell_type": "code",
   "execution_count": null,
   "id": "b118c494-9ff9-4dac-94d5-5d915a652474",
   "metadata": {},
   "outputs": [],
   "source": [
    "import matplotlib.pyplot as plt\n",
    "\n",
    "muestras = sr * 5 # Calculamos cuantas muestras hay en 5 s\n",
    "tiempo_mono = np.linspace(0, 5, muestras) #alineamos el eje x con el numero de muestras que vamos a graficas\n",
    "\n",
    "plt.figure(figsize=(12, 4)) #Creamos una figura con dimensiones en pulgadas\n",
    "plt.plot(tiempo_mono, audio_mono[:muestras], color='blue') #Dibujamos la forma de onda del audio mono\n",
    "plt.title(\"Audio MONO - primeros 5 segundos\")\n",
    "plt.xlabel(\"Tiempo (s)\")\n",
    "plt.ylabel(\"Amplitud\")\n",
    "plt.grid(True) # Aniadimos una rejilla para facilirar la lectura de la grafica\n",
    "plt.tight_layout() # Ajustamos bien los margenes\n",
    "plt.show()\n",
    "\n",
    "\n"
   ]
  },
  {
   "cell_type": "markdown",
   "id": "6d9acc36-2259-4cd2-8470-0c9a44cf4e97",
   "metadata": {},
   "source": [
    "### 3.2. Mostramos grafica audio estereo"
   ]
  },
  {
   "cell_type": "code",
   "execution_count": null,
   "id": "b8061494-2f62-46ce-bf9a-81c31f464828",
   "metadata": {},
   "outputs": [],
   "source": [
    "tiempo_stereo = np.linspace(0, 5, muestras)\n",
    "\n",
    "plt.figure(figsize=(12, 5))\n",
    "plt.plot(tiempo_stereo, audio_stereo[0][:muestras], label=\"Canal izquierdo\", alpha=0.7) #Dibujamos la forma de onda del canal izquierdo\n",
    "plt.plot(tiempo_stereo, audio_stereo[1][:muestras], label=\"Canal derecho\", alpha=0.7) # Dibujamos la forma de onda del canal derecho\n",
    "plt.title(\"Audio ESTÉREO - primeros 5 segundos\")\n",
    "plt.xlabel(\"Tiempo (s)\")\n",
    "plt.ylabel(\"Amplitud\")\n",
    "plt.legend()\n",
    "plt.grid(True)\n",
    "plt.tight_layout()\n",
    "plt.show()"
   ]
  },
  {
   "cell_type": "markdown",
   "id": "66f6661d-ab12-4904-ac15-a39ff056a973",
   "metadata": {},
   "source": [
    "## 4. Diferencia entre audio estereo y mono"
   ]
  },
  {
   "cell_type": "markdown",
   "id": "1090a093-0a4f-4cb6-8fbe-00481ed06002",
   "metadata": {},
   "source": [
    "La principal diferencia entre estos dos tipos de audio podemos observarlo principalmente en la grafica, como vemos en el audio mono solo tenemos un unico canal de sonido es decir el sonido se esucha por igual por ambos altavoces, mientras que ene le audio estereo tenemos dos canales, el canal izquierdo, y el canal derecho, uno para el oido izquierdo y otro para el oido derecho."
   ]
  }
 ],
 "metadata": {
  "kernelspec": {
   "display_name": "Python (audio_env)",
   "language": "python",
   "name": "audio_env"
  },
  "language_info": {
   "codemirror_mode": {
    "name": "ipython",
    "version": 3
   },
   "file_extension": ".py",
   "mimetype": "text/x-python",
   "name": "python",
   "nbconvert_exporter": "python",
   "pygments_lexer": "ipython3",
   "version": "3.10.16"
  }
 },
 "nbformat": 4,
 "nbformat_minor": 5
}
